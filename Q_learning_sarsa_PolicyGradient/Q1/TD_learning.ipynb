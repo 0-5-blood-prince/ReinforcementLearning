{
 "cells": [
  {
   "cell_type": "code",
   "execution_count": 2,
   "metadata": {},
   "outputs": [],
   "source": [
    "import gym\n",
    "import random\n",
    "import gym_gridworlds\n",
    "import rlpa2\n",
    "import mygrid\n",
    "import sklearn\n",
    "\n",
    "enva = gym.make(\"gridenv-v0\")\n",
    "envb = gym.make(\"gridenv-v1\")\n",
    "envc = gym.make(\"gridenv-v2\")"
   ]
  },
  {
   "cell_type": "code",
   "execution_count": null,
   "metadata": {},
   "outputs": [],
   "source": []
  },
  {
   "cell_type": "code",
   "execution_count": 3,
   "metadata": {},
   "outputs": [
    {
     "name": "stderr",
     "output_type": "stream",
     "text": [
      "/home/moiz/gym/gym/logger.py:30: UserWarning: \u001b[33mWARN: Box bound precision lowered by casting to float32\u001b[0m\n",
      "  warnings.warn(colorize('%s: %s'%('WARN', msg % args), 'yellow'))\n",
      "/home/moiz/gym/gym/logger.py:30: UserWarning: \u001b[33mWARN: Environment '<class 'rlpa2.envs.chakra.chakra'>' has deprecated methods '_step' and '_reset' rather than 'step' and 'reset'. Compatibility code invoked. Set _gym_disable_underscore_compat = True to disable this behavior.\u001b[0m\n",
      "  warnings.warn(colorize('%s: %s'%('WARN', msg % args), 'yellow'))\n"
     ]
    }
   ],
   "source": [
    "#To check Chakra Env\n",
    "e=gym.make('rlpa2:chakra-v0')"
   ]
  },
  {
   "cell_type": "code",
   "execution_count": null,
   "metadata": {},
   "outputs": [],
   "source": [
    "#BELOW CODE IS TO CHANGE REWARD TO -0.01 to obtain Results FAST USED Only in case of SARSA(lambda)"
   ]
  },
  {
   "cell_type": "markdown",
   "metadata": {},
   "source": [
    "# Grid Environment"
   ]
  },
  {
   "cell_type": "code",
   "execution_count": 8,
   "metadata": {},
   "outputs": [],
   "source": [
    "import numpy as np\n",
    "import matplotlib.pyplot as plt\n",
    "import random\n",
    "class GridWorld(object):\n",
    "    def __init__(self,n=12,m=12):\n",
    "        self.grid = np.zeros((m,n))\n",
    "        self.m = m\n",
    "        self.n = n\n",
    "        self.n_actions = 4\n",
    "        self.stateSpace = [i for i in range(self.m*self.n)]\n",
    "        self.startstates = [60,72,120,132]\n",
    "        self.startind = random.randint(0,3)\n",
    "        self.agentposition = self.startstates[self.startind]\n",
    "        ##Terminal state info say A\n",
    "        self.stateSpace.remove(79)#A index\n",
    "        self.stateSpaceplus = [i for i in range(self.m*self.n)]\n",
    "        self.actionSpace = {'U':-self.n,'D':self.n,'L':-1,'R':1}\n",
    "        self.possibleActions = ['U','D','L','R']\n",
    "        #Rewards\n",
    "        self.rewards  = np.zeros((m,n))\n",
    "        \n",
    "        for i in self.stateSpace:\n",
    "            x = i // self.m\n",
    "            y = i%self.n\n",
    "            self.rewards[x][y]=-0.01\n",
    "            if y in range(3,9):\n",
    "                if y == 8:\n",
    "                    if x in range(2,7):\n",
    "                        self.rewards[x][y]-=1\n",
    "                else:\n",
    "                    if x in range(2,9):\n",
    "                        self.rewards[x][y]-=1\n",
    "            if y in range(4,8):\n",
    "                if y == 7:\n",
    "                    if x in range(3,6):\n",
    "                        self.rewards[x][y]-=1\n",
    "                else:\n",
    "                    if x in range(3,8):\n",
    "                        self.rewards[x][y]-=1\n",
    "            if y in range(5,7):\n",
    "                if y == 6:\n",
    "                    if x==4:\n",
    "                        self.rewards[x][y]-=1\n",
    "                else:\n",
    "                    if x in range(4,7):\n",
    "                        self.rewards[x][y]-=1\n",
    "        self.rewards[6][7]=10  #A reward\n",
    "        self.setState(self.agentposition)\n",
    "                    \n",
    "                    \n",
    "        \n",
    "    def isTerminal(self,state):\n",
    "        return state in self.stateSpaceplus and state not in self.stateSpace\n",
    "    def getAgentRnC(self):\n",
    "        x = self.agentposition // self.m\n",
    "        y = self.agentposition % self.n\n",
    "        return x,y\n",
    "    def setState(self,state):\n",
    "        x,y = self.getAgentRnC()\n",
    "#         print(x)\n",
    "#         print(y)\n",
    "        self.grid[x][y]=-1\n",
    "        self.agentposition = state\n",
    "        x,y = self.getAgentRnC()\n",
    "        self.grid[x][y]=1\n",
    "    def offgrid(self,newState,oldState):\n",
    "        if newState not in self.stateSpaceplus:\n",
    "#             print(\"off\")\n",
    "            return True\n",
    "        elif oldState % self.m == 0 and newState % self.m == self.m - 1:\n",
    "            return True\n",
    "        elif oldState % self.m == self.m-1 and newState % self.m == 0:\n",
    "            return True\n",
    "        else:\n",
    "            return False\n",
    "    def step(self,action):\n",
    "        action = self.possibleActions[action]\n",
    "        x,y = self.getAgentRnC()\n",
    "        \n",
    "        prob_w = random.uniform(0,1)\n",
    "        wind = False\n",
    "#         if(prob_w<=0.5):\n",
    "#             wind = True\n",
    "        #stoc = False\n",
    "        prob_s = random.uniform(0,1)\n",
    "        action_m = action\n",
    "        if(prob_s<=0.9):\n",
    "            action_m = action\n",
    "        else:\n",
    "            t = random.randint(1,3)\n",
    "            c = 1\n",
    "            for a in self.actionSpace:\n",
    "                if(a==action):\n",
    "                    continue\n",
    "                else:\n",
    "                    if(c==t):\n",
    "                        action_m = a\n",
    "                        break\n",
    "                    c+=1\n",
    "                \n",
    "        resultingstate = self.agentposition + self.actionSpace[action_m]\n",
    "        trans_state = 0\n",
    "        reward = 0\n",
    "        #here Reward will be after windapplication Think \n",
    "        #Say you got into terminal by moving west and wind blows you east you\n",
    "        #remain in the same position\n",
    "        if not self.offgrid(resultingstate,self.agentposition):\n",
    "            trans_state = resultingstate\n",
    "        else:\n",
    "#             print(\"is off\",resultingstate)\n",
    "            trans_state = self.agentposition\n",
    "#             print(trans_state)\n",
    "#         if(wind):\n",
    "#             result_wind = trans_state + self.actionSpace['R']\n",
    "#             if not self.offgrid(result_wind,trans_state):\n",
    "#                 trans_state = result_wind\n",
    "#             else:\n",
    "# #                 print(\"is off\",result_wind)\n",
    "#                 trans_state = trans_state\n",
    "            \n",
    "#                 print(trans_state)\n",
    "        self.setState(trans_state)\n",
    "        x_end = trans_state // self.m\n",
    "        y_end = trans_state % self.n\n",
    "        isT = self.isTerminal(self.agentposition)\n",
    "#         print(\"state\")\n",
    "#         print(trans_state)\n",
    "#         print(x_end)\n",
    "#         print(y_end)\n",
    "    \n",
    "        return trans_state,self.rewards[x_end][y_end],isT,None\n",
    "        \n",
    "    def reset(self):\n",
    "        self.grid = np.zeros((self.m,self.n))\n",
    "        self.startind = random.randint(0,3)\n",
    "        self.agentposition = self.startstates[self.startind]\n",
    "        return self.agentposition\n",
    "    def render(self):\n",
    "        print('-----------------')\n",
    "        for row in self.grid:\n",
    "            for col in row:\n",
    "                if col==0:\n",
    "                    print('-',end =\" \")\n",
    "                elif col==1 or col==-1:\n",
    "                    print('X',end =\" \")\n",
    "            print('\\n')\n",
    "        print('------------------')"
   ]
  },
  {
   "cell_type": "code",
   "execution_count": 9,
   "metadata": {},
   "outputs": [
    {
     "name": "stdout",
     "output_type": "stream",
     "text": [
      "-0.01 -0.01 -0.01 -0.01 -0.01 -0.01 -0.01 -0.01 -0.01 -0.01 -0.01 -0.01 \n",
      "-0.01 -0.01 -0.01 -0.01 -0.01 -0.01 -0.01 -0.01 -0.01 -0.01 -0.01 -0.01 \n",
      "-0.01 -0.01 -0.01 -1.01 -1.01 -1.01 -1.01 -1.01 -1.01 -0.01 -0.01 -0.01 \n",
      "-0.01 -0.01 -0.01 -1.01 -2.01 -2.01 -2.01 -2.01 -1.01 -0.01 -0.01 -0.01 \n",
      "-0.01 -0.01 -0.01 -1.01 -2.01 -3.01 -3.01 -2.01 -1.01 -0.01 -0.01 -0.01 \n",
      "-0.01 -0.01 -0.01 -1.01 -2.01 -3.01 -2.01 -2.01 -1.01 -0.01 -0.01 -0.01 \n",
      "-0.01 -0.01 -0.01 -1.01 -2.01 -3.01 -2.01 10.0 -1.01 -0.01 -0.01 -0.01 \n",
      "-0.01 -0.01 -0.01 -1.01 -2.01 -2.01 -2.01 -1.01 -0.01 -0.01 -0.01 -0.01 \n",
      "-0.01 -0.01 -0.01 -1.01 -1.01 -1.01 -1.01 -1.01 -0.01 -0.01 -0.01 -0.01 \n",
      "-0.01 -0.01 -0.01 -0.01 -0.01 -0.01 -0.01 -0.01 -0.01 -0.01 -0.01 -0.01 \n",
      "-0.01 -0.01 -0.01 -0.01 -0.01 -0.01 -0.01 -0.01 -0.01 -0.01 -0.01 -0.01 \n",
      "-0.01 -0.01 -0.01 -0.01 -0.01 -0.01 -0.01 -0.01 -0.01 -0.01 -0.01 -0.01 \n"
     ]
    }
   ],
   "source": [
    "# env  = gym.make('mygrid:gridenv-v0')\n",
    "en= GridWorld()\n",
    "for i in range(12):\n",
    "    for j in range(12):\n",
    "        print(en.rewards[i][j],end=\" \")\n",
    "    print(\"\")"
   ]
  },
  {
   "cell_type": "code",
   "execution_count": 10,
   "metadata": {},
   "outputs": [],
   "source": [
    "a=np.asarray([0,2])\n",
    "b=np.asarray([3,2])"
   ]
  },
  {
   "cell_type": "code",
   "execution_count": 11,
   "metadata": {},
   "outputs": [
    {
     "name": "stdout",
     "output_type": "stream",
     "text": [
      "0.0\n"
     ]
    }
   ],
   "source": [
    "print(round(0.01433,1))"
   ]
  },
  {
   "cell_type": "code",
   "execution_count": 12,
   "metadata": {},
   "outputs": [
    {
     "name": "stderr",
     "output_type": "stream",
     "text": [
      "/home/moiz/gym/gym/logger.py:30: UserWarning: \u001b[33mWARN: Box bound precision lowered by casting to float32\u001b[0m\n",
      "  warnings.warn(colorize('%s: %s'%('WARN', msg % args), 'yellow'))\n"
     ]
    }
   ],
   "source": [
    "e=gym.make('rlpa2:chakra-v0')\n"
   ]
  },
  {
   "cell_type": "code",
   "execution_count": 13,
   "metadata": {},
   "outputs": [
    {
     "name": "stdout",
     "output_type": "stream",
     "text": [
      "[0.57152989 0.89397518]\n"
     ]
    }
   ],
   "source": [
    "print(np.random.normal(loc = (0.07,0.103),scale = 1.))"
   ]
  },
  {
   "cell_type": "markdown",
   "metadata": {},
   "source": [
    "# Q-learning"
   ]
  },
  {
   "cell_type": "code",
   "execution_count": 27,
   "metadata": {},
   "outputs": [],
   "source": [
    "from collections import defaultdict\n",
    "def q_learning_run(env,num_episodes,gamma = 0.9 , alpha = 0.15, epsilon = 0.1):\n",
    "    Q = defaultdict(lambda:np.zeros(4))\n",
    "#     env.reset()\n",
    "#     env.render()\n",
    "    Episodelen = []\n",
    "    AvgReward = []\n",
    "    for episode in range(num_episodes):\n",
    "#         env.render()\n",
    "        resetedpos = env.reset()\n",
    "#         print(\"Start state\",resetedpos)\n",
    "        state = resetedpos\n",
    "        rew = 0\n",
    "        length = 0\n",
    "        while(1):\n",
    "#             print(state)\n",
    "            length+=1\n",
    "            if(np.count_nonzero(Q[state])==0):\n",
    "                bestaction = random.randint(0,3)\n",
    "            else:\n",
    "                bestaction = np.argmax(Q[state])\n",
    "                \n",
    "            prob_ba = 1.0 - epsilon + (epsilon/4)\n",
    "            ba = random.uniform(0,1)\n",
    "            Action_sel = -1\n",
    "#             print(ba)\n",
    "            if(ba<=prob_ba):\n",
    "                Action_sel = bestaction\n",
    "            else:\n",
    "                t =random.randint(1,3)\n",
    "                c =1\n",
    "                for a in range(4):\n",
    "                    if(a==bestaction):\n",
    "                        continue\n",
    "                    else:\n",
    "                        if(c==t):\n",
    "                            Action_sel = a\n",
    "                            break\n",
    "                        else:\n",
    "                            c+=1\n",
    "#             print(\"Best action is\",bestaction)\n",
    "#             print(\"Action selected \",Action_sel)\n",
    "#             print(\"State is\",state)\n",
    "            next_state, reward,isT, _ = env.step(Action_sel)\n",
    "#             print(\"State is\",next_state)\n",
    "            rew+=reward\n",
    "            if(np.count_nonzero(Q[next_state])==0):\n",
    "                best_n_action = random.randint(0,3)\n",
    "            else:\n",
    "                best_n_action = np.argmax(Q[next_state])\n",
    "            #UPDATING\n",
    "            d = reward + gamma * Q[next_state][best_n_action] - Q[state][Action_sel]\n",
    "            Q[state][Action_sel] += alpha * (d)\n",
    "            if isT:\n",
    "                break\n",
    "            state = next_state  \n",
    "#         print(\"Length is \",length)\n",
    "#         print(\"rew is \",rew)\n",
    "        AvgReward.append(rew)\n",
    "        Episodelen.append(length)\n",
    "    return AvgReward,Episodelen,Q"
   ]
  },
  {
   "cell_type": "code",
   "execution_count": 29,
   "metadata": {},
   "outputs": [
    {
     "name": "stdout",
     "output_type": "stream",
     "text": [
      "0\n",
      "Max is  342\n",
      "1\n",
      "Max is  425\n",
      "2\n",
      "Max is  243\n",
      "3\n",
      "Max is  300\n",
      "4\n",
      "Max is  829\n",
      "5\n",
      "Max is  918\n",
      "6\n",
      "Max is  1280\n",
      "7\n",
      "Max is  1067\n",
      "8\n",
      "Max is  848\n",
      "9\n",
      "Max is  554\n",
      "10\n",
      "Max is  662\n",
      "11\n",
      "Max is  551\n",
      "12\n",
      "Max is  618\n",
      "13\n",
      "Max is  534\n",
      "14\n",
      "Max is  732\n",
      "15\n",
      "Max is  500\n",
      "16\n",
      "Max is  294\n",
      "17\n",
      "Max is  775\n",
      "18\n",
      "Max is  421\n",
      "19\n",
      "Max is  579\n",
      "20\n",
      "Max is  665\n",
      "21\n",
      "Max is  281\n",
      "22\n",
      "Max is  694\n",
      "23\n",
      "Max is  800\n",
      "24\n",
      "Max is  280\n",
      "25\n",
      "Max is  336\n",
      "26\n",
      "Max is  338\n",
      "27\n",
      "Max is  451\n",
      "28\n",
      "Max is  1000\n",
      "29\n",
      "Max is  558\n",
      "30\n",
      "Max is  780\n",
      "31\n",
      "Max is  560\n",
      "32\n",
      "Max is  552\n",
      "33\n",
      "Max is  431\n",
      "34\n",
      "Max is  1045\n",
      "35\n",
      "Max is  697\n",
      "36\n",
      "Max is  869\n",
      "37\n",
      "Max is  371\n",
      "38\n",
      "Max is  754\n",
      "39\n",
      "Max is  303\n",
      "40\n",
      "Max is  577\n",
      "41\n",
      "Max is  321\n",
      "42\n",
      "Max is  339\n",
      "43\n",
      "Max is  227\n",
      "44\n",
      "Max is  1157\n",
      "45\n",
      "Max is  750\n",
      "46\n",
      "Max is  852\n",
      "47\n",
      "Max is  336\n",
      "48\n",
      "Max is  459\n",
      "49\n",
      "Max is  304\n"
     ]
    }
   ],
   "source": [
    "num_episode = 500\n",
    "Q_qlearn = defaultdict(lambda:np.zeros(4))\n",
    "r_qlearn = np.zeros(num_episode)\n",
    "l_qlearn = np.zeros(num_episode)\n",
    "\n",
    "num_runs = 50\n",
    "smooth = 5\n",
    "for i in range(num_runs):\n",
    "    print(i)\n",
    "    \n",
    "    r,l,q = q_learning_run(enva,num_episode)\n",
    "    print(\"Max is \",np.max(l))\n",
    "    for j in range(num_episode):\n",
    "        r_qlearn[j]=(r_qlearn[j]*(i)+r[j])/(i+1)\n",
    "        l_qlearn[j]=(l_qlearn[j]*(i)+l[j])/(i+1)\n",
    "    for k in range(144):\n",
    "        for a in range(4):\n",
    "            Q_qlearn[k][a]=(Q_qlearn[k][a]*(i)+q[k][a])/(i+1)\n",
    "        \n"
   ]
  },
  {
   "cell_type": "code",
   "execution_count": 175,
   "metadata": {},
   "outputs": [],
   "source": [
    "# print(np.shape(r_qlearn))\n",
    "# print(np.shape(l_qlearn))\n",
    "# r_qlearn_s = np.zeros(int(num_episode/smooth))\n",
    "# l_qlearn_s = np.zeros(int(num_episode/smooth))\n",
    "\n",
    "# k = 0\n",
    "# for i in range(num_episode):\n",
    "#     r = 0\n",
    "#     l = 0\n",
    "#     j = 0\n",
    "#     i = i*5\n",
    "#     if(i==num_episode):\n",
    "#         break\n",
    "#     for j in range(smooth):\n",
    "#         print(\"smooth\",i)\n",
    "#         r=(r*j+r_qlearn[i])/(j+1)\n",
    "#         l=(l*j+l_qlearn[i])/(j+1)\n",
    "#         i+=1\n",
    "#     print(\"k and i\",k,i)\n",
    "#     r_qlearn_s[k]=r\n",
    "#     l_qlearn_s[k]=l\n",
    "#     k+=1\n",
    "        "
   ]
  },
  {
   "cell_type": "code",
   "execution_count": 30,
   "metadata": {},
   "outputs": [],
   "source": [
    "r_qllearn = np.zeros(num_episode)\n",
    "for i in range(num_episode):\n",
    "        r_qllearn[i]=r_qlearn[i]/l_qlearn[i]"
   ]
  },
  {
   "cell_type": "code",
   "execution_count": 31,
   "metadata": {},
   "outputs": [
    {
     "name": "stdout",
     "output_type": "stream",
     "text": [
      "[-2.9   0.96  1.   -0.84 -1.16  2.66  1.14  1.42 -0.32  1.26  2.9   2.\n",
      "  1.58  1.64  3.36  3.94  3.44  4.5   3.78  3.52  2.06  3.52  4.78  4.76\n",
      "  5.74  3.54  4.6   4.84  3.78  4.84  3.92  6.42  5.62  4.54  7.    6.54\n",
      "  6.1   6.98  3.52  6.54  6.88  6.14  6.92  4.88  7.1   7.    6.44  6.1\n",
      "  6.44  8.26  6.22  6.22  7.76  7.8   7.4   7.82  6.8   7.8   7.56  5.34\n",
      "  7.68  7.44  7.36  8.3   7.42  6.84  6.7   7.62  6.34  7.2   6.02  7.72\n",
      "  7.72  8.5   8.04  7.62  8.5   7.7   8.5   7.18  6.54  7.5   7.34  6.42\n",
      "  8.18  7.08  9.06  7.82  8.8   7.96  8.2   7.96  7.84  8.26  8.46  8.88\n",
      "  7.86  8.62  8.8   7.78  7.66  8.74  8.4   7.88  8.54  6.36  7.42  7.24\n",
      "  8.7   8.66  6.74  7.02  7.42  7.48  8.46  5.86  8.46  8.06  6.78  6.84\n",
      "  8.1   8.14  8.72  8.12  7.06  8.44  8.92  8.96  7.84  7.18  8.66  8.22\n",
      "  7.92  8.4   6.96  8.94  7.7   7.18  8.16  8.7   8.18  9.02  9.26  8.3\n",
      "  8.4   7.38  9.48  8.46  7.64  8.76  8.38  8.1   7.1   7.    6.82  8.54\n",
      "  8.08  9.2   9.18  8.54  7.82  7.66  8.46  7.42  8.98  8.34  8.64  8.88\n",
      "  8.58  9.16  9.4   7.76  8.5   7.9   7.72  9.3   8.62  8.32  7.46  8.5\n",
      "  7.78  8.1   8.88  8.66  8.68  7.62  8.62  8.52  7.42  6.32  8.26  7.9\n",
      "  8.12  7.9   7.9   7.68  8.74  8.88  8.36  8.94  7.34  8.76  8.3   7.42\n",
      "  8.22  8.22  8.24  8.62  8.78  8.1   7.76  7.84  8.    7.8   8.9   7.98\n",
      "  8.88  8.78  8.5   7.98  8.96  8.    7.76  8.66  8.6   8.5   7.8   8.44\n",
      "  8.18  8.52  8.22  9.32  7.7   8.3   8.44  8.8   9.12  8.72  8.5   8.18\n",
      "  8.52  8.14  8.96  8.7   8.68  8.14  9.2   8.14  8.94  8.7   7.84  7.96\n",
      "  8.78  8.44  8.96  8.58  8.84  7.2   8.96  7.82  8.28  8.16  9.14  8.3\n",
      "  8.    9.22  8.12  8.68  8.3   8.12  8.86  8.3   7.14  8.62  8.98  7.74\n",
      "  8.96  9.24  8.38  7.5   8.62  9.12  9.4   8.64  9.18  8.6   9.2   8.98\n",
      "  8.58  9.3   7.9   8.28  9.14  7.64  9.24  8.72  9.68  8.16  7.7   9.\n",
      "  9.64  8.38  8.14  7.98  8.12  9.28  8.3   8.22  8.72  9.32  8.94  8.7\n",
      "  8.88  8.32  8.92  8.16  9.24  9.28  8.8   9.14  8.8   8.76  9.22  8.96\n",
      "  9.6   7.98  9.26  8.92  8.5   8.38  8.98  8.88  8.9   8.74  9.78  8.86\n",
      "  9.06  9.2   9.24  9.28  9.3   9.42  8.7   8.42  8.66  8.98  8.76  9.2\n",
      "  9.16  9.82  9.6   9.02  8.38  9.7   9.12  9.02  8.6   8.76  9.1   9.64\n",
      "  8.2   9.08  9.1   9.48  9.06  8.82  8.8   9.52  9.26  9.24  9.06  9.14\n",
      "  9.66  8.66  9.28  7.88  9.02  8.04  9.62  9.4   8.9   9.28  9.64  9.68\n",
      "  9.58  8.84  8.82  8.68  9.26  9.56  8.58  9.32  8.62  8.66  9.26  8.68\n",
      "  9.58  8.76  9.28  8.44  9.12  9.08  9.18  9.1   9.12  8.88  9.48  8.96\n",
      "  9.18  9.12  9.02  8.86  9.24  9.08  9.22  8.8   9.18  9.68  9.42  9.26\n",
      "  9.34  9.54  9.78  9.18  9.12  9.    8.7   8.92  9.78  9.2   9.78  9.4\n",
      "  9.72  9.42  9.44  9.6   9.2   9.64  9.32  9.16  9.    8.4   9.14  9.02\n",
      "  9.48  9.3   7.34  9.    9.12  9.18  9.34  9.58  9.5   9.08  9.24  8.9\n",
      "  9.06  9.36  8.92  9.54  9.32  8.7   9.3   9.54  8.66  9.62  9.34  8.74\n",
      "  9.36  9.4   9.32  9.54  9.24  9.52  8.98  9.1   9.38  9.76  9.94  9.66\n",
      "  9.58  9.3   9.06  9.58  9.84  8.52  9.86  9.7   9.58  9.62  9.02  9.44\n",
      "  9.46  9.04  9.38  9.66  9.48  8.7   9.48  9.26]\n"
     ]
    }
   ],
   "source": [
    "print(r_qlearn)"
   ]
  },
  {
   "cell_type": "code",
   "execution_count": 34,
   "metadata": {},
   "outputs": [
    {
     "data": {
      "image/png": "[encoded data removed]",
      "text/plain": [
       "<Figure size 432x288 with 1 Axes>"
      ]
     },
     "metadata": {
      "needs_background": "light"
     },
     "output_type": "display_data"
    },
    {
     "data": {
      "image/png": "[encoded data removed]",
      "text/plain": [
       "<Figure size 432x288 with 1 Axes>"
      ]
     },
     "metadata": {
      "needs_background": "light"
     },
     "output_type": "display_data"
    }
   ],
   "source": [
    "T = []\n",
    "# num_episode=100\n",
    "for i in range(num_episode):\n",
    "    T.append(i+1)\n",
    "plt.title(\"Q-learning Average reward of Episode for 50 runs B\")\n",
    "plt.xlabel(\"Num episodes\")\n",
    "# plt.ylim(-10,10)\n",
    "plt.ylabel(\"Average Reward\")\n",
    "plt.plot(T,r_qlearn)\n",
    "plt.show()\n",
    "plt.title(\"Q-learning Average length of Episode for 50 runs B\")\n",
    "plt.xlabel(\"Num episodes\")\n",
    "plt.ylabel(\"Length of Episode\")\n",
    "plt.plot(T,l_qlearn)\n",
    "plt.show()"
   ]
  },
  {
   "cell_type": "code",
   "execution_count": 180,
   "metadata": {},
   "outputs": [],
   "source": [
    "Q_bqlearn = Q_qlearn"
   ]
  },
  {
   "cell_type": "code",
   "execution_count": 173,
   "metadata": {},
   "outputs": [],
   "source": [
    "Q_aqlearn = Q_qlearn"
   ]
  },
  {
   "cell_type": "code",
   "execution_count": 163,
   "metadata": {},
   "outputs": [],
   "source": [
    "Q_cqlearn = Q_qlearn"
   ]
  },
  {
   "cell_type": "code",
   "execution_count": 183,
   "metadata": {},
   "outputs": [
    {
     "name": "stdout",
     "output_type": "stream",
     "text": [
      "↑  |  →  |  →  |  →  |  →  |  →  |  →  |  →  |  ↓  |  ↓  |  ↓  |  ↓  |  \n",
      "\n",
      "→  |  →  |  ↑  |  ↑  |  ↑  |  →  |  →  |  →  |  ↓  |  ↓  |  ↓  |  ↓  |  \n",
      "\n",
      "↑  |  ↑  |  ↑  |  ↑  |  ↑  |  ↑  |  ↑  |  →  |  →  |  G  |  ←  |  ←  |  \n",
      "\n",
      "↑  |  ↑  |  ←  |  ↑  |  ↑  |  ↑  |  →  |  →  |  ↑  |  ↑  |  ↑  |  ↑  |  \n",
      "\n",
      "↑  |  ↑  |  ←  |  ←  |  ←  |  ↑  |  →  |  →  |  →  |  ↑  |  ↑  |  ↑  |  \n",
      "\n",
      "↑  |  ←  |  ←  |  ←  |  ←  |  →  |  →  |  →  |  →  |  ↑  |  ↑  |  ↑  |  \n",
      "\n",
      "↓  |  ↓  |  ←  |  ←  |  ←  |  →  |  →  |  →  |  →  |  ↑  |  ↑  |  ↑  |  \n",
      "\n",
      "↓  |  ↓  |  ←  |  ←  |  ↓  |  ↓  |  →  |  →  |  ↓  |  →  |  ↑  |  ↑  |  \n",
      "\n",
      "↓  |  ↓  |  ↓  |  ↓  |  ↓  |  ↓  |  ↓  |  ↓  |  →  |  →  |  ↑  |  ↑  |  \n",
      "\n",
      "↓  |  ↓  |  ↓  |  →  |  ↓  |  ↓  |  →  |  →  |  →  |  →  |  ↑  |  ↑  |  \n",
      "\n",
      "→  |  →  |  →  |  →  |  →  |  →  |  →  |  →  |  →  |  ↑  |  ↑  |  ↑  |  \n",
      "\n",
      "→  |  →  |  →  |  →  |  →  |  ↑  |  ↑  |  ↑  |  ↑  |  ↑  |  ↑  |  ↑  |  \n",
      "\n"
     ]
    }
   ],
   "source": [
    "from unicodedata import *\n",
    "for x in range(12):\n",
    "    for y in range(12):\n",
    "        if(x==2 and y==9):\n",
    "            print(\"G\",end=\"  |  \")\n",
    "            continue\n",
    "        if(np.max(Q_qlearn[x*12+y])==0):\n",
    "            a=random.randint(0,3)\n",
    "        else:\n",
    "            a = np.argmax(Q_bqlearn[x*12+y])\n",
    "        if(a==0):\n",
    "            print(lookup(\"UPWARDS ARROW\"),end=\"  |  \")\n",
    "        if(a==1):\n",
    "            print(lookup(\"DOWNWARDS ARROW\"),end=\"  |  \")\n",
    "        if(a==2):\n",
    "            print(lookup(\"LEFTWARDS ARROW\"),end=\"  |  \")\n",
    "        if(a==3):\n",
    "            print(lookup(\"RIGHTWARDS ARROW\"),end=\"  |  \")\n",
    "    print('\\n')\n",
    "    \n",
    "            "
   ]
  },
  {
   "cell_type": "code",
   "execution_count": 235,
   "metadata": {},
   "outputs": [],
   "source": [
    "from unicodedata import *\n",
    "\n",
    "mat = np.zeros((12,12))\n",
    "for x in range(12):\n",
    "    for y in range(12):\n",
    "        mat[x,y]=-1\n",
    "        if y in range(3,9):\n",
    "            if y == 8:\n",
    "                if x in range(2,7):\n",
    "                    mat[x,y]=3\n",
    "            else:\n",
    "                if x in range(2,9):\n",
    "                    mat[x,y]=3\n",
    "        if y in range(4,8):\n",
    "            if y == 7:\n",
    "                if x in range(3,6):\n",
    "                    mat[x,y]=2\n",
    "            else:\n",
    "                if x in range(3,8):\n",
    "                    mat[x,y]=2\n",
    "        if y in range(5,7):\n",
    "            if y == 6:\n",
    "                if x==4:\n",
    "                    mat[x,y]=1\n",
    "            else:\n",
    "                if x in range(4,7):\n",
    "                    mat[x,y]=1\n",
    "\n",
    "\n",
    "mat[6,7]=4\n",
    "fig,ax = plt.subplots()\n",
    "arrow = {0:\"↑\",1:\"↓\",2:\"←\",3:\"→\"}\n",
    "ax.matshow(mat)\n",
    "for x in range(12):\n",
    "    for y in range(12):\n",
    "        if(np.max(Q_cqlearn[x*12+y])==0):\n",
    "            a=random.randint(0,3)\n",
    "        else:\n",
    "            a = np.argmax(Q_cqlearn[x*12+y])\n",
    "        if(mat[x,y]==4):\n",
    "            continue\n",
    "        ax.text(y,x,arrow[a],va=\"center\",ha=\"center\")\n",
    "plt.show()"
   ]
  },
  {
   "cell_type": "markdown",
   "metadata": {},
   "source": [
    "# SARSA"
   ]
  },
  {
   "cell_type": "code",
   "execution_count": 239,
   "metadata": {},
   "outputs": [],
   "source": [
    "from collections import defaultdict\n",
    "def sarsa(env,num_episodes,gamma = 0.9 , alpha = 0.15, epsilon = 0.1):\n",
    "    Q = defaultdict(lambda:np.zeros(4))\n",
    "    env.reset()\n",
    "#     env.render()\n",
    "    Episodelen = []\n",
    "    AvgReward = []\n",
    "    for episode in range(num_episodes):\n",
    "#         env.render()\n",
    "        resetedpos = env.reset()\n",
    "#         print(\"Start state\",resetedpos)\n",
    "        state = resetedpos\n",
    "        rew = 0\n",
    "        length = 0\n",
    "        while(1):\n",
    "            length+=1\n",
    "            if(np.count_nonzero(Q[state])==0):\n",
    "                bestaction = random.randint(0,3)\n",
    "            else:\n",
    "                bestaction = np.argmax(Q[state])\n",
    "            prob_ba = 1.0 - epsilon + (epsilon/4)\n",
    "            ba = random.uniform(0,1)\n",
    "            Action_sel = -1\n",
    "            if(ba<=prob_ba):\n",
    "                Action_sel = bestaction\n",
    "            else:\n",
    "                t =random.randint(1,3)\n",
    "                c =1\n",
    "                for a in range(4):\n",
    "                    if(a==bestaction):\n",
    "                        continue\n",
    "                    else:\n",
    "                        if(c==t):\n",
    "                            Action_sel = a\n",
    "                            break\n",
    "                        else:\n",
    "                            c+=1\n",
    "            next_state, reward,isT, _ = env.step(Action_sel)\n",
    "            rew+=reward\n",
    "            if(np.count_nonzero(Q[next_state])==0):\n",
    "                best_n_action = random.randint(0,3)\n",
    "            else:\n",
    "                best_n_action = np.argmax(Q[next_state])\n",
    "            prob_ba = 1.0 - epsilon + (epsilon/4)\n",
    "            ba = random.uniform(0,1)\n",
    "            Action_n_sel = -1\n",
    "            if(ba<=prob_ba):\n",
    "                Action_n_sel = best_n_action\n",
    "            else:\n",
    "                t =random.randint(1,3)\n",
    "                c =1\n",
    "                for a in range(4):\n",
    "                    if(a==best_n_action):\n",
    "                        continue\n",
    "                    else:\n",
    "                        if(c==t):\n",
    "                            Action_n_sel = a\n",
    "                            break\n",
    "                        else:\n",
    "                            c+=1\n",
    "            Q[state][Action_sel] += alpha * (reward + gamma * Q[next_state][Action_n_sel] - Q[state][Action_sel])\n",
    "            if isT:\n",
    "                break\n",
    "            state = next_state\n",
    "        AvgReward.append(rew)\n",
    "        Episodelen.append(length)\n",
    "    return AvgReward,Episodelen,Q"
   ]
  },
  {
   "cell_type": "code",
   "execution_count": 240,
   "metadata": {},
   "outputs": [
    {
     "name": "stdout",
     "output_type": "stream",
     "text": [
      "0\n",
      "Max is  28112\n",
      "1\n",
      "Max is  138252\n",
      "2\n",
      "Max is  286113\n",
      "3\n",
      "Max is  41663\n",
      "4\n",
      "Max is  4788\n",
      "5\n",
      "Max is  12305\n",
      "6\n",
      "Max is  5441\n",
      "7\n",
      "Max is  74818\n",
      "8\n",
      "Max is  22940\n",
      "9\n",
      "Max is  46609\n",
      "10\n",
      "Max is  7196\n",
      "11\n",
      "Max is  1401946\n",
      "12\n",
      "Max is  145083\n",
      "13\n",
      "Max is  80450\n",
      "14\n",
      "Max is  18765\n",
      "15\n",
      "Max is  7797186\n",
      "16\n",
      "Max is  58128\n",
      "17\n",
      "Max is  32055\n",
      "18\n",
      "Max is  41357\n",
      "19\n",
      "Max is  8069319\n",
      "20\n",
      "Max is  18526\n",
      "21\n",
      "Max is  228459\n",
      "22\n",
      "Max is  25231\n",
      "23\n",
      "Max is  81170\n",
      "24\n",
      "Max is  2834\n",
      "25\n",
      "Max is  1484617\n",
      "26\n",
      "Max is  17914\n",
      "27\n",
      "Max is  24400\n",
      "28\n",
      "Max is  153780\n",
      "29\n",
      "Max is  55000\n",
      "30\n",
      "Max is  62152\n",
      "31\n",
      "Max is  11270\n",
      "32\n",
      "Max is  35999\n",
      "33\n",
      "Max is  4319055\n",
      "34\n",
      "Max is  6944244\n",
      "35\n",
      "Max is  1600659\n",
      "36\n",
      "Max is  28616\n",
      "37\n",
      "Max is  222494\n",
      "38\n",
      "Max is  2376671\n",
      "39\n",
      "Max is  2008195\n",
      "40\n",
      "Max is  8230\n",
      "41\n",
      "Max is  1391576\n",
      "42\n",
      "Max is  105721\n",
      "43\n",
      "Max is  142690\n",
      "44\n",
      "Max is  21851\n",
      "45\n",
      "Max is  21139\n",
      "46\n",
      "Max is  46283\n",
      "47\n",
      "Max is  2033266\n",
      "48\n",
      "Max is  171234\n",
      "49\n",
      "Max is  12454803\n"
     ]
    }
   ],
   "source": [
    "num_episode = 100\n",
    "Q_sarsa = defaultdict(lambda:np.zeros(4))\n",
    "r_sarsa = np.zeros(num_episode)\n",
    "l_sarsa = np.zeros(num_episode)\n",
    "\n",
    "num_runs = 50\n",
    "smooth = 5\n",
    "for i in range(num_runs):\n",
    "    print(i)\n",
    "    \n",
    "    r,l,q = sarsa(envc,num_episode)\n",
    "    print(\"Max is \",np.max(l))\n",
    "    for j in range(num_episode):\n",
    "        r_sarsa[j]=(r_sarsa[j]*(i)+r[j])/(i+1)\n",
    "        l_sarsa[j]=(l_sarsa[j]*(i)+l[j])/(i+1)\n",
    "    for k in range(144):\n",
    "        for a in range(4):\n",
    "            Q_sarsa[k][a]=(Q_sarsa[k][a]*(i)+q[k][a])/(i+1)\n",
    "        \n"
   ]
  },
  {
   "cell_type": "code",
   "execution_count": 241,
   "metadata": {},
   "outputs": [],
   "source": [
    "r_lsarsa = np.zeros(num_episode)\n",
    "for i in range(num_episode):\n",
    "        r_lsarsa[i]=r_sarsa[i]/l_sarsa[i]"
   ]
  },
  {
   "cell_type": "code",
   "execution_count": 242,
   "metadata": {},
   "outputs": [
    {
     "data": {
      "text/plain": [
       "0.025"
      ]
     },
     "execution_count": 242,
     "metadata": {},
     "output_type": "execute_result"
    }
   ],
   "source": [
    "a =[0.1,0.1]\n",
    "np.linalg.norm((a/np.linalg.norm(a))*0.025)"
   ]
  },
  {
   "cell_type": "code",
   "execution_count": 245,
   "metadata": {},
   "outputs": [
    {
     "data": {
      "image/png": "[encoded data removed]",
      "text/plain": [
       "<Figure size 432x288 with 1 Axes>"
      ]
     },
     "metadata": {
      "needs_background": "light"
     },
     "output_type": "display_data"
    },
    {
     "data": {
      "image/png": "[encoded data removed]",
      "text/plain": [
       "<Figure size 432x288 with 1 Axes>"
      ]
     },
     "metadata": {
      "needs_background": "light"
     },
     "output_type": "display_data"
    }
   ],
   "source": [
    "T = []\n",
    "# num_episode=100\n",
    "for i in range(num_episode):\n",
    "    T.append(i+1)\n",
    "plt.title(\"Sarsa Average reward of Episode for 50 runs C\")\n",
    "plt.xlabel(\"Num episodes\")\n",
    "plt.ylabel(\"Average Reward\")\n",
    "plt.plot(T,r_sarsa)\n",
    "plt.show()\n",
    "plt.title(\"Sarsa Average length of Episode for 50 runs C\")\n",
    "plt.xlabel(\"Num episodes\")\n",
    "plt.ylabel(\"Length of Episode\")\n",
    "plt.plot(T,l_sarsa)\n",
    "plt.show()"
   ]
  },
  {
   "cell_type": "code",
   "execution_count": 246,
   "metadata": {},
   "outputs": [],
   "source": [
    "Q_csarsa = Q_sarsa"
   ]
  },
  {
   "cell_type": "code",
   "execution_count": 195,
   "metadata": {},
   "outputs": [],
   "source": [
    "Q_bsarsa = Q_sarsa"
   ]
  },
  {
   "cell_type": "code",
   "execution_count": 190,
   "metadata": {},
   "outputs": [],
   "source": [
    "Q_asarsa = Q_sarsa"
   ]
  },
  {
   "cell_type": "code",
   "execution_count": 249,
   "metadata": {},
   "outputs": [],
   "source": [
    "# print(Q_qlearn)"
   ]
  },
  {
   "cell_type": "code",
   "execution_count": 258,
   "metadata": {},
   "outputs": [
    {
     "name": "stdout",
     "output_type": "stream",
     "text": [
      "→  |  →  |  →  |  →  |  →  |  →  |  →  |  →  |  →  |  →  |  ↑  |  ↓  |  \n",
      "\n",
      "→  |  →  |  →  |  →  |  ↑  |  ↑  |  ↑  |  ↑  |  ↑  |  →  |  ↑  |  ↑  |  \n",
      "\n",
      "↑  |  ↑  |  ↑  |  ↑  |  ↑  |  ↑  |  ↑  |  ↑  |  ↑  |  ↑  |  ↑  |  ↑  |  \n",
      "\n",
      "↑  |  ↑  |  ↑  |  ↑  |  ↑  |  ↑  |  ↑  |  →  |  →  |  ↑  |  ↑  |  ↑  |  \n",
      "\n",
      "↑  |  ↑  |  ←  |  ←  |  ↑  |  ↑  |  →  |  →  |  →  |  ↑  |  ↑  |  ↑  |  \n",
      "\n",
      "↑  |  ↑  |  ←  |  ←  |  ←  |  →  |  ↓  |  →  |  →  |  ↑  |  ↑  |  ↑  |  \n",
      "\n",
      "↓  |  ←  |  ←  |  ←  |  ↓  |  →  |  →  |  →  |  →  |  ↑  |  ↑  |  ↑  |  \n",
      "\n",
      "↓  |  ↓  |  ←  |  ↓  |  ↓  |  ↓  |  →  |  →  |  ↓  |  →  |  ↑  |  ↑  |  \n",
      "\n",
      "↓  |  ↓  |  ↓  |  ↓  |  ↓  |  ↓  |  ↓  |  →  |  ↑  |  ↑  |  ↑  |  ↑  |  \n",
      "\n",
      "↓  |  ↓  |  ↓  |  →  |  →  |  →  |  →  |  →  |  →  |  ↑  |  ↑  |  ↑  |  \n",
      "\n",
      "→  |  →  |  →  |  →  |  →  |  →  |  →  |  →  |  ↑  |  ↑  |  ↑  |  ↑  |  \n",
      "\n",
      "→  |  →  |  →  |  →  |  →  |  →  |  ↑  |  ↑  |  ↑  |  ↑  |  ↑  |  ↑  |  \n",
      "\n"
     ]
    }
   ],
   "source": [
    "from unicodedata import *\n",
    "for x in range(12):\n",
    "    for y in range(12):\n",
    "        if(np.max(Q_qlearn[x*12+y])==0):\n",
    "            a=random.randint(0,3)\n",
    "        else:\n",
    "            a = np.argmax(Q_qlearn[x*12+y])\n",
    "        if(a==0):\n",
    "            print(lookup(\"UPWARDS ARROW\"),end=\"  |  \")\n",
    "        if(a==1):\n",
    "            print(lookup(\"DOWNWARDS ARROW\"),end=\"  |  \")\n",
    "        if(a==2):\n",
    "            print(lookup(\"LEFTWARDS ARROW\"),end=\"  |  \")\n",
    "        if(a==3):\n",
    "            print(lookup(\"RIGHTWARDS ARROW\"),end=\"  |  \")\n",
    "    print('\\n')\n",
    "    \n",
    "            "
   ]
  },
  {
   "cell_type": "code",
   "execution_count": null,
   "metadata": {},
   "outputs": [],
   "source": []
  },
  {
   "cell_type": "code",
   "execution_count": 248,
   "metadata": {},
   "outputs": [
    {
     "data": {
      "image/png": "[encoded data removed]",
      "text/plain": [
       "<Figure size 432x288 with 1 Axes>"
      ]
     },
     "metadata": {
      "needs_background": "light"
     },
     "output_type": "display_data"
    }
   ],
   "source": [
    "from unicodedata import *\n",
    "\n",
    "mat = np.zeros((12,12))\n",
    "for x in range(12):\n",
    "    for y in range(12):\n",
    "        mat[x,y]=-1\n",
    "        if y in range(3,9):\n",
    "            if y == 8:\n",
    "                if x in range(2,7):\n",
    "                    mat[x,y]=3\n",
    "            else:\n",
    "                if x in range(2,9):\n",
    "                    mat[x,y]=3\n",
    "        if y in range(4,8):\n",
    "            if y == 7:\n",
    "                if x in range(3,6):\n",
    "                    mat[x,y]=2\n",
    "            else:\n",
    "                if x in range(3,8):\n",
    "                    mat[x,y]=2\n",
    "        if y in range(5,7):\n",
    "            if y == 6:\n",
    "                if x==4:\n",
    "                    mat[x,y]=1\n",
    "            else:\n",
    "                if x in range(4,7):\n",
    "                    mat[x,y]=1\n",
    "\n",
    "\n",
    "mat[6,7]=4\n",
    "fig,ax = plt.subplots()\n",
    "arrow = {0:\"↑\",1:\"↓\",2:\"←\",3:\"→\"}\n",
    "ax.matshow(mat)\n",
    "for x in range(12):\n",
    "    for y in range(12):\n",
    "        if(np.max(Q_csarsa[x*12+y])==0):\n",
    "            a=random.randint(0,3)\n",
    "        else:\n",
    "            a = np.argmax(Q_csarsa[x*12+y])\n",
    "        if(mat[x,y]==4):\n",
    "            continue\n",
    "        ax.text(y,x,arrow[a],va=\"center\",ha=\"center\")\n",
    "plt.show()"
   ]
  },
  {
   "cell_type": "code",
   "execution_count": 28,
   "metadata": {},
   "outputs": [
    {
     "data": {
      "image/png": "[encoded data removed]",
      "text/plain": [
       "<Figure size 432x288 with 1 Axes>"
      ]
     },
     "metadata": {
      "needs_background": "light"
     },
     "output_type": "display_data"
    }
   ],
   "source": [
    "import numpy as np\n",
    "import matplotlib.pyplot as plt\n",
    "fig = plt.figure(2)\n",
    "ax = fig.add_subplot(111)\n",
    "# ax.quiver(485.0, 759.0, 485.0, 764.0,angles='xy', scale_units='xy', scale = 1)\n",
    "ax.quiver(0.1, 0.5, 0.8 - 0.1, 0.5 - 0.5, \n",
    "          angles='xy', scale_units='xy', scale = 1)\n",
    "ax.axis([0,12,0,12])\n",
    "plt.grid(color='r', linestyle='-', linewidth=1)\n",
    "plt.draw()\n",
    "plt.show()"
   ]
  },
  {
   "cell_type": "markdown",
   "metadata": {},
   "source": [
    "# Sarsa(lambda)"
   ]
  },
  {
   "attachments": {
    "image.png": {
     "image/png": "[encoded data removed]"
    }
   },
   "cell_type": "markdown",
   "metadata": {},
   "source": [
    "![image.png](attachment:image.png)"
   ]
  },
  {
   "cell_type": "code",
   "execution_count": 14,
   "metadata": {},
   "outputs": [],
   "source": [
    "from collections import defaultdict\n",
    "def sarsal(env,num_episodes,lamb,gamma = 0.9, alpha = 0.15, epsilon = 0.1):\n",
    "    Q = defaultdict(lambda:np.zeros(4))\n",
    "    E = defaultdict(lambda:np.zeros(4))\n",
    "    env.reset()\n",
    "#     env.render()\n",
    "    Episodelen = []\n",
    "    AvgReward = []\n",
    "    for episode in range(num_episodes):\n",
    "#         env.render()\n",
    "        resetedpos = env.reset()\n",
    "#         print(\"Start state\",resetedpos)\n",
    "        state = resetedpos\n",
    "        rew = 0\n",
    "        length = 0\n",
    "        while(1):\n",
    "            length+=1\n",
    "            if(np.count_nonzero(Q[state])==0):\n",
    "                bestaction = random.randint(0,3)\n",
    "            else:\n",
    "                bestaction = np.argmax(Q[state])\n",
    "            prob_ba = 1.0 - epsilon + (epsilon/4)\n",
    "            ba = random.uniform(0,1)\n",
    "            Action_sel = -1\n",
    "            if(ba<=prob_ba):\n",
    "                Action_sel = bestaction\n",
    "            else:\n",
    "                t =random.randint(1,3)\n",
    "                c =1\n",
    "                for a in range(4):\n",
    "                    if(a==bestaction):\n",
    "                        continue\n",
    "                    else:\n",
    "                        if(c==t):\n",
    "                            Action_sel = a\n",
    "                            break\n",
    "                        else:\n",
    "                            c+=1\n",
    "            next_state, reward,isT, _ = env.step(Action_sel)\n",
    "            rew+=reward\n",
    "            if(np.count_nonzero(Q[next_state])==0):\n",
    "                best_n_action = random.randint(0,3)\n",
    "            else:\n",
    "                best_n_action = np.argmax(Q[next_state])\n",
    "            prob_ba = 1.0 - epsilon + (epsilon/4)\n",
    "            ba = random.uniform(0,1)\n",
    "            Action_n_sel = -1\n",
    "            if(ba<=prob_ba):\n",
    "                Action_n_sel = best_n_action\n",
    "            else:\n",
    "                t =random.randint(1,3)\n",
    "                c =1\n",
    "                for a in range(4):\n",
    "                    if(a==best_n_action):\n",
    "                        continue\n",
    "                    else:\n",
    "                        if(c==t):\n",
    "                            Action_n_sel = a\n",
    "                            break\n",
    "                        else:\n",
    "                            c+=1\n",
    "            delta = reward + gamma * Q[next_state][Action_n_sel] - Q[state][Action_sel]\n",
    "            E[state][Action_sel]+=1\n",
    "            for s,_ in Q.items() :\n",
    "                Q[s][:] += alpha * delta * E[s][:]\n",
    "                E[s][:] = gamma*lamb*E[s][:]\n",
    "            if isT:\n",
    "                break\n",
    "            state = next_state\n",
    "        AvgReward.append(rew)\n",
    "        Episodelen.append(length)\n",
    "    return AvgReward,Episodelen,Q"
   ]
  },
  {
   "cell_type": "code",
   "execution_count": 15,
   "metadata": {},
   "outputs": [
    {
     "name": "stdout",
     "output_type": "stream",
     "text": [
      "Max is  1287\n",
      "Max is  1481\n",
      "Max is  853\n",
      "Max is  1483\n",
      "Max is  610\n",
      "Max is  5867\n",
      "Max is  892\n",
      "Max is  4226\n",
      "Max is  690\n",
      "Max is  1454\n",
      "Max is  1986\n",
      "Max is  990\n",
      "Max is  628\n",
      "Max is  1776\n",
      "Max is  717\n",
      "Max is  4571\n",
      "Max is  773\n",
      "Max is  1005\n",
      "Max is  796\n",
      "Max is  1102\n",
      "Max is  4803\n",
      "Max is  2444\n",
      "Max is  1243\n",
      "Max is  653\n",
      "Max is  1225\n",
      "Max is  9018\n",
      "Max is  966\n",
      "Max is  585\n",
      "Max is  1115\n",
      "Max is  1646\n",
      "Max is  658\n",
      "Max is  734\n",
      "Max is  915\n",
      "Max is  1298\n",
      "Max is  839\n",
      "Max is  502\n",
      "Max is  744\n",
      "Max is  1356\n",
      "Max is  4443\n",
      "Max is  598\n",
      "Max is  754\n",
      "Max is  757\n",
      "Max is  669\n",
      "Max is  881\n",
      "Max is  623\n",
      "Max is  2202\n",
      "Max is  940\n",
      "Max is  648\n",
      "Max is  676\n",
      "Max is  897\n"
     ]
    }
   ],
   "source": [
    "num_episode = 25\n",
    "Q_sarsal1 = defaultdict(lambda:np.zeros(4))\n",
    "r_sarsal1 = np.zeros(num_episode)\n",
    "l_sarsal1 = np.zeros(num_episode)\n",
    "\n",
    "num_runs = 50\n",
    "smooth = 5\n",
    "for i in range(num_runs):\n",
    "#     print(i)\n",
    "    \n",
    "    r,l,q = sarsal(en,num_episode,0)\n",
    "    print(\"Max is \",np.max(l))\n",
    "    for j in range(num_episode):\n",
    "        r_sarsal1[j]=(r_sarsal1[j]*(i)+r[j])/(i+1)\n",
    "        l_sarsal1[j]=(l_sarsal1[j]*(i)+l[j])/(i+1)\n",
    "    for k in range(144):\n",
    "        for a in range(4):\n",
    "            Q_sarsal1[k][a]=(Q_sarsal1[k][a]*(i)+q[k][a])/(i+1)"
   ]
  },
  {
   "cell_type": "code",
   "execution_count": 16,
   "metadata": {},
   "outputs": [
    {
     "name": "stdout",
     "output_type": "stream",
     "text": [
      "Max is  892\n",
      "Max is  7094\n",
      "Max is  660\n",
      "Max is  639\n",
      "Max is  762\n",
      "Max is  726\n",
      "Max is  840\n",
      "Max is  841\n",
      "Max is  947\n",
      "Max is  1734\n",
      "Max is  516\n",
      "Max is  1021\n",
      "Max is  1147\n",
      "Max is  1066\n",
      "Max is  534\n",
      "Max is  585\n",
      "Max is  944\n",
      "Max is  1394\n",
      "Max is  662\n",
      "Max is  676\n",
      "Max is  815\n",
      "Max is  833\n",
      "Max is  669\n",
      "Max is  598\n",
      "Max is  3617\n",
      "Max is  881\n",
      "Max is  1881\n",
      "Max is  996\n",
      "Max is  4747\n",
      "Max is  631\n",
      "Max is  879\n",
      "Max is  944\n",
      "Max is  2300\n",
      "Max is  709\n",
      "Max is  981\n",
      "Max is  667\n",
      "Max is  3542\n",
      "Max is  739\n",
      "Max is  1709\n",
      "Max is  730\n",
      "Max is  916\n",
      "Max is  1181\n",
      "Max is  817\n",
      "Max is  1115\n",
      "Max is  1489\n",
      "Max is  657\n",
      "Max is  1213\n",
      "Max is  1144\n",
      "Max is  703\n",
      "Max is  1279\n"
     ]
    }
   ],
   "source": [
    "num_episode = 25\n",
    "Q_sarsal2 = defaultdict(lambda:np.zeros(4))\n",
    "r_sarsal2 = np.zeros(num_episode)\n",
    "l_sarsal2 = np.zeros(num_episode)\n",
    "\n",
    "num_runs = 50\n",
    "smooth = 5\n",
    "for i in range(num_runs):\n",
    "#     print(i)\n",
    "    \n",
    "    r,l,q = sarsal(en,num_episode,0.3)\n",
    "    print(\"Max is \",np.max(l))\n",
    "    for j in range(num_episode):\n",
    "        r_sarsal2[j]=(r_sarsal2[j]*(i)+r[j])/(i+1)\n",
    "        l_sarsal2[j]=(l_sarsal2[j]*(i)+l[j])/(i+1)\n",
    "    for k in range(144):\n",
    "        for a in range(4):\n",
    "            Q_sarsal2[k][a]=(Q_sarsal2[k][a]*(i)+q[k][a])/(i+1)"
   ]
  },
  {
   "cell_type": "code",
   "execution_count": 17,
   "metadata": {},
   "outputs": [
    {
     "name": "stdout",
     "output_type": "stream",
     "text": [
      "Max is  373\n",
      "Max is  904\n",
      "Max is  667\n",
      "Max is  452\n",
      "Max is  678\n",
      "Max is  542\n",
      "Max is  811\n",
      "Max is  1225\n",
      "Max is  1692\n",
      "Max is  1118\n",
      "Max is  965\n",
      "Max is  2122\n",
      "Max is  967\n",
      "Max is  3453\n",
      "Max is  1583\n",
      "Max is  1276\n",
      "Max is  933\n",
      "Max is  1523\n",
      "Max is  1319\n",
      "Max is  1940\n",
      "Max is  1244\n",
      "Max is  433\n",
      "Max is  1628\n",
      "Max is  728\n",
      "Max is  6461\n",
      "Max is  831\n",
      "Max is  698\n",
      "Max is  782\n",
      "Max is  1598\n",
      "Max is  1195\n",
      "Max is  575\n",
      "Max is  1836\n",
      "Max is  538\n",
      "Max is  1300\n",
      "Max is  1319\n",
      "Max is  6429\n",
      "Max is  784\n",
      "Max is  9300\n",
      "Max is  492\n",
      "Max is  1638\n",
      "Max is  554279\n",
      "Max is  543\n",
      "Max is  1174\n",
      "Max is  2269\n",
      "Max is  854\n",
      "Max is  666\n",
      "Max is  1822\n",
      "Max is  1485\n",
      "Max is  1231\n",
      "Max is  803\n"
     ]
    }
   ],
   "source": [
    "num_episode = 25\n",
    "Q_sarsal3 = defaultdict(lambda:np.zeros(4))\n",
    "r_sarsal3 = np.zeros(num_episode)\n",
    "l_sarsal3 = np.zeros(num_episode)\n",
    "\n",
    "num_runs = 50\n",
    "smooth = 5\n",
    "for i in range(num_runs):\n",
    "#     print(i)\n",
    "    \n",
    "    r,l,q = sarsal(en,num_episode,0.5)\n",
    "    print(\"Max is \",np.max(l))\n",
    "    for j in range(num_episode):\n",
    "        r_sarsal3[j]=(r_sarsal3[j]*(i)+r[j])/(i+1)\n",
    "        l_sarsal3[j]=(l_sarsal3[j]*(i)+l[j])/(i+1)\n",
    "    for k in range(144):\n",
    "        for a in range(4):\n",
    "            Q_sarsal3[k][a]=(Q_sarsal3[k][a]*(i)+q[k][a])/(i+1)"
   ]
  },
  {
   "cell_type": "code",
   "execution_count": 18,
   "metadata": {},
   "outputs": [
    {
     "name": "stdout",
     "output_type": "stream",
     "text": [
      "Max is  10997\n",
      "Max is  2607\n",
      "Max is  6013\n",
      "Max is  13886\n",
      "Max is  15463\n",
      "Max is  4888\n",
      "Max is  2989\n",
      "Max is  21298\n",
      "Max is  38678\n",
      "Max is  2563\n",
      "Max is  2385\n",
      "Max is  614\n",
      "Max is  42946\n",
      "Max is  15706\n",
      "Max is  817\n",
      "Max is  3668\n",
      "Max is  7057\n",
      "Max is  35817\n",
      "Max is  6156\n",
      "Max is  3889\n",
      "Max is  10653\n",
      "Max is  2595\n",
      "Max is  3409\n",
      "Max is  5333\n",
      "Max is  21214\n",
      "Max is  1684\n",
      "Max is  4000\n",
      "Max is  1192\n",
      "Max is  6537\n",
      "Max is  8868\n",
      "Max is  3509\n",
      "Max is  53924\n",
      "Max is  11075\n",
      "Max is  1082\n",
      "Max is  6742\n",
      "Max is  27564\n",
      "Max is  10913\n",
      "Max is  5177\n",
      "Max is  7863\n",
      "Max is  619\n",
      "Max is  15452\n",
      "Max is  15729\n",
      "Max is  4126\n",
      "Max is  46658\n",
      "Max is  858\n",
      "Max is  29621\n",
      "Max is  25092\n",
      "Max is  7548\n",
      "Max is  17114\n",
      "Max is  1665\n"
     ]
    }
   ],
   "source": [
    "num_episode = 25\n",
    "Q_sarsal4 = defaultdict(lambda:np.zeros(4))\n",
    "r_sarsal4 = np.zeros(num_episode)\n",
    "l_sarsal4 = np.zeros(num_episode)\n",
    "\n",
    "num_runs = 50\n",
    "smooth = 5\n",
    "for i in range(num_runs):\n",
    "#     print(i)\n",
    "    \n",
    "    r,l,q = sarsal(en,num_episode,0.9)\n",
    "    print(\"Max is \",np.max(l))\n",
    "    for j in range(num_episode):\n",
    "        r_sarsal4[j]=(r_sarsal4[j]*(i)+r[j])/(i+1)\n",
    "        l_sarsal4[j]=(l_sarsal4[j]*(i)+l[j])/(i+1)\n",
    "    for k in range(144):\n",
    "        for a in range(4):\n",
    "            Q_sarsal4[k][a]=(Q_sarsal4[k][a]*(i)+q[k][a])/(i+1)"
   ]
  },
  {
   "cell_type": "code",
   "execution_count": 19,
   "metadata": {},
   "outputs": [
    {
     "name": "stdout",
     "output_type": "stream",
     "text": [
      "Max is  1353\n",
      "Max is  724\n",
      "Max is  4210\n",
      "Max is  5987\n",
      "Max is  7009\n",
      "Max is  2035\n",
      "Max is  9077\n",
      "Max is  330\n",
      "Max is  6291\n",
      "Max is  2853\n",
      "Max is  10022\n",
      "Max is  2877\n",
      "Max is  4846\n",
      "Max is  3727\n",
      "Max is  2599\n",
      "Max is  9573\n",
      "Max is  2895\n",
      "Max is  9397\n",
      "Max is  10136\n",
      "Max is  2365\n",
      "Max is  5375\n",
      "Max is  5613\n",
      "Max is  3155\n",
      "Max is  2189\n",
      "Max is  3147\n",
      "Max is  4137\n",
      "Max is  1450\n",
      "Max is  802\n",
      "Max is  2100\n",
      "Max is  5095\n",
      "Max is  2971\n",
      "Max is  14111\n",
      "Max is  13719\n",
      "Max is  15289\n",
      "Max is  6153\n",
      "Max is  13396\n",
      "Max is  2743\n",
      "Max is  1208\n",
      "Max is  4318\n",
      "Max is  2381\n",
      "Max is  2133\n",
      "Max is  1939\n",
      "Max is  4308\n",
      "Max is  18269\n",
      "Max is  16059\n",
      "Max is  7383\n",
      "Max is  1662\n",
      "Max is  3775\n",
      "Max is  5134\n",
      "Max is  5519\n"
     ]
    }
   ],
   "source": [
    "num_episode = 25\n",
    "Q_sarsal5 = defaultdict(lambda:np.zeros(4))\n",
    "r_sarsal5 = np.zeros(num_episode)\n",
    "l_sarsal5 = np.zeros(num_episode)\n",
    "\n",
    "num_runs = 50\n",
    "smooth = 5\n",
    "for i in range(num_runs):\n",
    "#     print(i)\n",
    "    \n",
    "    r,l,q = sarsal(en,num_episode,0.99)\n",
    "    print(\"Max is \",np.max(l))\n",
    "    for j in range(num_episode):\n",
    "        r_sarsal5[j]=(r_sarsal5[j]*(i)+r[j])/(i+1)\n",
    "        l_sarsal5[j]=(l_sarsal5[j]*(i)+l[j])/(i+1)\n",
    "    for k in range(144):\n",
    "        for a in range(4):\n",
    "            Q_sarsal5[k][a]=(Q_sarsal5[k][a]*(i)+q[k][a])/(i+1)"
   ]
  },
  {
   "cell_type": "code",
   "execution_count": 20,
   "metadata": {},
   "outputs": [
    {
     "name": "stdout",
     "output_type": "stream",
     "text": [
      "Max is  18234\n",
      "Max is  1037\n",
      "Max is  718\n",
      "Max is  5319\n",
      "Max is  826\n",
      "Max is  16418\n",
      "Max is  13365\n",
      "Max is  4574\n",
      "Max is  4668\n",
      "Max is  641\n",
      "Max is  3442\n",
      "Max is  2076\n",
      "Max is  972\n",
      "Max is  3297\n",
      "Max is  1877\n",
      "Max is  975\n",
      "Max is  1792\n",
      "Max is  1983\n",
      "Max is  6517\n",
      "Max is  4856\n",
      "Max is  1907\n",
      "Max is  5698\n",
      "Max is  11096\n",
      "Max is  5823\n",
      "Max is  2095\n",
      "Max is  13946\n",
      "Max is  9064\n",
      "Max is  20424\n",
      "Max is  4085\n",
      "Max is  3415\n",
      "Max is  5264\n",
      "Max is  10773\n",
      "Max is  3700\n",
      "Max is  5580\n",
      "Max is  4142\n",
      "Max is  914\n",
      "Max is  657\n",
      "Max is  1003\n",
      "Max is  12980\n",
      "Max is  3422\n",
      "Max is  5686\n",
      "Max is  8478\n",
      "Max is  9286\n",
      "Max is  8563\n",
      "Max is  38401\n",
      "Max is  16494\n",
      "Max is  5159\n",
      "Max is  2760\n",
      "Max is  5073\n",
      "Max is  4118\n"
     ]
    }
   ],
   "source": [
    "num_episode = 25\n",
    "Q_sarsal6 = defaultdict(lambda:np.zeros(4))\n",
    "r_sarsal6 = np.zeros(num_episode)\n",
    "l_sarsal6 = np.zeros(num_episode)\n",
    "\n",
    "num_runs = 50\n",
    "smooth = 5\n",
    "for i in range(num_runs):\n",
    "#     print(i)\n",
    "    \n",
    "    r,l,q = sarsal(en,num_episode,1.0)\n",
    "    print(\"Max is \",np.max(l))\n",
    "    for j in range(num_episode):\n",
    "        r_sarsal6[j]=(r_sarsal6[j]*(i)+r[j])/(i+1)\n",
    "        l_sarsal6[j]=(l_sarsal6[j]*(i)+l[j])/(i+1)\n",
    "    for k in range(144):\n",
    "        for a in range(4):\n",
    "            Q_sarsal6[k][a]=(Q_sarsal6[k][a]*(i)+q[k][a])/(i+1)"
   ]
  },
  {
   "cell_type": "code",
   "execution_count": 23,
   "metadata": {},
   "outputs": [
    {
     "data": {
      "image/png": "[encoded data removed]",
      "text/plain": [
       "<Figure size 432x288 with 1 Axes>"
      ]
     },
     "metadata": {
      "needs_background": "light"
     },
     "output_type": "display_data"
    }
   ],
   "source": [
    "T = []\n",
    "num_episode=25\n",
    "for i in range(num_episode):\n",
    "    T.append(i+1)\n",
    "plt.title(\"Sarsa Lambda Average reward for various Lambdas C\")\n",
    "plt.xlabel(\"Num episodes\")\n",
    "plt.ylabel(\"Average Reward\")\n",
    "plt.ylim(-20,10)\n",
    "plt.plot(T,r_sarsal1,label=\"lambda = 0\")\n",
    "plt.plot(T,r_sarsal2,label=\"lambda = 0.3\")\n",
    "plt.plot(T,r_sarsal3,label=\"lambda = 0.5\")\n",
    "plt.plot(T,r_sarsal4,label=\"lambda = 0.9\")\n",
    "plt.plot(T,r_sarsal5,label=\"lambda = 0.99\")\n",
    "plt.plot(T,r_sarsal6,label=\"lambda = 1.0\")\n",
    "plt.legend()\n",
    "plt.show()"
   ]
  },
  {
   "cell_type": "code",
   "execution_count": 24,
   "metadata": {},
   "outputs": [
    {
     "data": {
      "image/png": "[encoded data removed]",
      "text/plain": [
       "<Figure size 432x288 with 1 Axes>"
      ]
     },
     "metadata": {
      "needs_background": "light"
     },
     "output_type": "display_data"
    }
   ],
   "source": [
    "T = []\n",
    "num_episode=25\n",
    "for i in range(num_episode):\n",
    "    T.append(i+1)\n",
    "plt.title(\"Sarsa Lambda Length of Episode for various Lambdas C\")\n",
    "plt.xlabel(\"Num episodes\")\n",
    "plt.ylabel(\"Length\")\n",
    "plt.ylim(0,2000)\n",
    "plt.plot(T,l_sarsal1,label=\"lambda = 0\")\n",
    "plt.plot(T,l_sarsal2,label=\"lambda = 0.3\")\n",
    "plt.plot(T,l_sarsal3,label=\"lambda = 0.5\")\n",
    "plt.plot(T,l_sarsal4,label=\"lambda = 0.9\")\n",
    "plt.plot(T,l_sarsal5,label=\"lambda = 0.99\")\n",
    "plt.plot(T,l_sarsal6,label=\"lambda = 1.0\")\n",
    "plt.legend()\n",
    "plt.show()"
   ]
  },
  {
   "cell_type": "code",
   "execution_count": 41,
   "metadata": {},
   "outputs": [
    {
     "data": {
      "image/png": "[encoded data removed]",
      "text/plain": [
       "<Figure size 432x288 with 1 Axes>"
      ]
     },
     "metadata": {
      "needs_background": "light"
     },
     "output_type": "display_data"
    },
    {
     "data": {
      "image/png": "[encoded data removed]",
      "text/plain": [
       "<Figure size 432x288 with 1 Axes>"
      ]
     },
     "metadata": {
      "needs_background": "light"
     },
     "output_type": "display_data"
    }
   ],
   "source": [
    "plt.plot([0,0.3,0.5,0.9,0.99,1],[r_sarsal1[24],r_sarsal2[24],r_sarsal3[24],r_sarsal4[24],r_sarsal5[24],r_sarsal6[24]])\n",
    "plt.title(\"Average Reward lambda C\")\n",
    "plt.show()\n",
    "plt.plot([0,0.3,0.5,0.9,0.99,1],[l_sarsal1[24],l_sarsal2[24],l_sarsal3[24],l_sarsal4[24],l_sarsal5[24],l_sarsal6[24]])\n",
    "plt.title(\"Average Length lambda C\")\n",
    "plt.show()"
   ]
  },
  {
   "cell_type": "code",
   "execution_count": null,
   "metadata": {},
   "outputs": [],
   "source": []
  }
 ],
 "metadata": {
  "kernelspec": {
   "display_name": "Python 3",
   "language": "python",
   "name": "python3"
  },
  "language_info": {
   "codemirror_mode": {
    "name": "ipython",
    "version": 3
   },
   "file_extension": ".py",
   "mimetype": "text/x-python",
   "name": "python",
   "nbconvert_exporter": "python",
   "pygments_lexer": "ipython3",
   "version": "3.7.3"
  }
 },
 "nbformat": 4,
 "nbformat_minor": 2
}
