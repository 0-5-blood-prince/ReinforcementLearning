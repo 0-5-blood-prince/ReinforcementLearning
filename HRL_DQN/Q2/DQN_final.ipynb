{
 "cells": [
  {
   "cell_type": "code",
   "execution_count": 1,
   "metadata": {
    "colab": {},
    "colab_type": "code",
    "id": "du94Xm6a8_AD"
   },
   "outputs": [],
   "source": [
    "import tensorflow as tf"
   ]
  },
  {
   "cell_type": "code",
   "execution_count": 26,
   "metadata": {
    "colab": {},
    "colab_type": "code",
    "id": "zXj37xPH8_Aw"
   },
   "outputs": [],
   "source": [
    "import gym\n",
    "import math\n",
    "import random\n",
    "import numpy as np\n",
    "import matplotlib\n",
    "import matplotlib.pyplot as plt\n"
   ]
  },
  {
   "cell_type": "code",
   "execution_count": 27,
   "metadata": {
    "colab": {},
    "colab_type": "code",
    "id": "VnTG-ACr8_A9"
   },
   "outputs": [],
   "source": [
    "tf.compat.v1.disable_eager_execution()"
   ]
  },
  {
   "cell_type": "code",
   "execution_count": 28,
   "metadata": {
    "colab": {
     "base_uri": "https://localhost:8080/",
     "height": 52
    },
    "colab_type": "code",
    "id": "nYnOxbLD8_BH",
    "outputId": "a9a05fb0-b1e8-4f18-d6c1-146868839c29"
   },
   "outputs": [],
   "source": [
    "e = gym.make('CartPole-v0')"
   ]
  },
  {
   "cell_type": "markdown",
   "metadata": {
    "colab_type": "text",
    "id": "7zNIW5Qn8_BT"
   },
   "source": [
    "# Experience Replay"
   ]
  },
  {
   "cell_type": "code",
   "execution_count": 29,
   "metadata": {
    "colab": {},
    "colab_type": "code",
    "id": "vtZt730j8_BV"
   },
   "outputs": [],
   "source": [
    "from collections import namedtuple\n",
    "from itertools import count\n",
    "Transition = namedtuple('trans','state action next_state reward done')\n",
    "class Replaymem(object):\n",
    "    def __init__(self,cap):\n",
    "        #kind of like circular queue\n",
    "        self.cap = cap\n",
    "        self.rear = 0\n",
    "        self.mem = []\n",
    "    def push(self,*s_a_ns_r_d):\n",
    "        if(len(self.mem)<self.cap):\n",
    "            self.mem.append(None)\n",
    "        self.mem[self.rear]=Transition(*s_a_ns_r_d)\n",
    "        self.rear = (self.rear+1)%self.cap\n",
    "    def rsample(self,size_of_sample):\n",
    "        ###TAKING TOO MUCH TIME\n",
    "        experience = random.sample(self.mem,size_of_sample)\n",
    "        l = len(experience)    \n",
    "        buff = []\n",
    "        for i in range(l):\n",
    "            a = []\n",
    "            a.append(experience[i].state)\n",
    "            a.append(experience[i].action)\n",
    "            a.append(experience[i].reward)\n",
    "            a.append(experience[i].next_state)\n",
    "            a.append(experience[i].done)\n",
    "            buff.append(np.array(a))\n",
    "        return np.reshape(np.array(buff),[l,5])\n",
    "    def size(self):\n",
    "        return len(self.mem)"
   ]
  },
  {
   "cell_type": "code",
   "execution_count": 30,
   "metadata": {},
   "outputs": [],
   "source": [
    "class Replay_Buffer():\n",
    "    def __init__(self,buffer_size):\n",
    "        self.buffer = []\n",
    "        self.buffer_size = buffer_size\n",
    "    def push(self,experience):\n",
    "        l = len(self.buffer)\n",
    "        e = len(experience)\n",
    "        if l + e >= self.buffer_size:\n",
    "            self.buffer[0:l+e- self.buffer_size] =[]\n",
    "        self.buffer.extend(experience)\n",
    "    def sample(self,size):\n",
    "        return np.reshape(np.array(random.sample(self.buffer,size)),[size,5])\n",
    "    def sample2(self,size):\n",
    "        return np.reshape(np.array((self.buffer)),[size,5])"
   ]
  },
  {
   "cell_type": "markdown",
   "metadata": {
    "colab_type": "text",
    "id": "tVc04Lh18_Bn"
   },
   "source": [
    "# Tensorflow Model"
   ]
  },
  {
   "cell_type": "code",
   "execution_count": 31,
   "metadata": {
    "colab": {},
    "colab_type": "code",
    "id": "bq8n9TH_8_Bq"
   },
   "outputs": [],
   "source": [
    "# class tfModel(tf.keras.Model):\n",
    "#     def __init__(self, num_states, hidden_units, num_actions):\n",
    "#         super(tfModel, self).__init__()\n",
    "#         self.input_layer = tf.keras.layers.InputLayer(input_shape=(num_states,))\n",
    "#         self.hidden_layers = []\n",
    "#         for i in hidden_units:\n",
    "#             self.hidden_layers.append(tf.keras.layers.Dense(\n",
    "#                 i, activation='relu', kernel_initializer='RandomNormal'))\n",
    "#         self.output_layer = tf.keras.layers.Dense(\n",
    "#             num_actions,kernel_initializer='RandomNormal')\n",
    "\n",
    "#     @tf.function\n",
    "#     def call(self, inputs):\n",
    "#         #shape of inputs [batch_size,size_of_state]\n",
    "#         z = self.input_layer(inputs)\n",
    "#         for layer in self.hidden_layers:\n",
    "#             z = layer(z)\n",
    "#         output = self.output_layer(z)\n",
    "#         #shape of inputs [batch_size,number of actions outputs(2)]\n",
    "#         return output"
   ]
  },
  {
   "cell_type": "markdown",
   "metadata": {},
   "source": [
    "# DQN "
   ]
  },
  {
   "cell_type": "code",
   "execution_count": 32,
   "metadata": {
    "colab": {},
    "colab_type": "code",
    "id": "jWBQ04S38_B6"
   },
   "outputs": [],
   "source": [
    "import datetime\n",
    "class DQN():\n",
    "    def __init__(self,eps,eps_decay,eps_update,hidden_layers,num_episodes,gamma,target_freq,batch_size,Memsize,learning_rate):\n",
    "        self.eps = eps\n",
    "        self.hidden_layers = hidden_layers\n",
    "        self.eps_decay = eps_decay\n",
    "        self.eps_up = eps_update\n",
    "        self.NUM_EPISODES = num_episodes\n",
    "        self.gamma = gamma\n",
    "        self.target_up = target_freq\n",
    "        self.batch_size = batch_size\n",
    "        self.env = gym.make('CartPole-v0')\n",
    "        self.num_state_size = 4\n",
    "        self.num_action_size = 2\n",
    "        self.ReplayMemSize = Memsize\n",
    "        self.learning_rate = learning_rate\n",
    "        self.current_time = datetime.datetime.now().strftime(\"%Y%m%d-%H%M%S\")\n",
    "        self.log_dir = './logs/dqn/'+'bestfinal'+'/'\n",
    "        print(self.current_time)\n",
    "          ##if tf model is used\n",
    "#         self.PrimaryNet = tfModel(self.num_state_size,self.hidden_layers,self.num_action_size)\n",
    "#         self.PrimaryNet.compile(optimizer=\"Adam\",loss=\"mse\",metrics=[\"mae\"])\n",
    "#         self.TargetNet = tfModel(self.num_state_size,self.hidden_layers,self.num_action_size)     \n",
    "    def Q_network(self):\n",
    "        \n",
    "        ### The primary network\n",
    "\n",
    "        # Initializing primary networks weights and biases\n",
    "        # All the weights and biases of primary network\n",
    "        self.x = tf.keras.backend.placeholder(dtype = tf.float32, shape= [None,self.num_state_size,], name = 'input')\n",
    "        self.hidden_layer1_size = self.hidden_layers[0]\n",
    "        self.hidden_layer2_size = self.hidden_layers[1]\n",
    "        self.hidden_layer3_size = 2\n",
    "        self.primary_weights = {\n",
    "            'w1' : tf.Variable(np.random.normal(0, 0.01, size = (self.num_state_size, self.hidden_layer1_size)), dtype = tf.float32, name = \"primary_weight1\" ),\n",
    "            'b1' : tf.Variable(np.random.normal(0, 0, size = (self.hidden_layer1_size)), dtype = tf.float32, name = \"primary_bias1\" ),\n",
    "            'w2' : tf.Variable(np.random.normal(0, 0.01, size = (self.hidden_layer1_size, self.hidden_layer2_size)), dtype = tf.float32, name = \"primary_weight2\" ),\n",
    "            'b2' : tf.Variable(np.random.normal(0, 0, size = (self.hidden_layer2_size)), dtype = tf.float32, name = \"primary_bias2\" ),\n",
    "            'w3' : tf.Variable(np.random.normal(0, 0.01, size = (self.hidden_layer2_size, self.hidden_layer3_size)), dtype = tf.float32, name = \"primary_weight3\" ),\n",
    "            'b3' : tf.Variable(np.random.normal(0, 0, size = (self.hidden_layer3_size)), dtype = tf.float32, name = \"primary_bias3\" )\n",
    "        }\n",
    "\n",
    "        # Defining the primary network\n",
    "        p_h1 = tf.nn.relu(tf.add(tf.matmul(self.x, self.primary_weights['w1']), self.primary_weights['b1']))\n",
    "        p_h2 = tf.nn.relu(tf.add(tf.matmul(p_h1, self.primary_weights['w2']), self.primary_weights['b2']))\n",
    "        # Q value from primary network\n",
    "        self.Q_primary = tf.add(tf.matmul(p_h2, self.primary_weights['w3']), self.primary_weights['b3'])\n",
    "        self.Q_main_predict = tf.argmax(self.Q_primary,axis=1)\n",
    "        ### The target network\n",
    "        # Initializing target networks weights and biases\n",
    "        # All the weights and biases of target network\n",
    "        self.target_weights = {\n",
    "            'w1' : tf.Variable(np.random.normal(0, 0.01, size = (self.num_state_size, self.hidden_layer1_size)), dtype = tf.float32, name = \"target_weight1\" ),\n",
    "            'b1' : tf.Variable(np.random.normal(0, 0, size = (self.hidden_layer1_size)), dtype = tf.float32, name = \"target_bias1\" ),\n",
    "            'w2' : tf.Variable(np.random.normal(0, 0.01, size = (self.hidden_layer1_size, self.hidden_layer2_size)), dtype = tf.float32, name = \"target_weight2\" ),\n",
    "            'b2' : tf.Variable(np.random.normal(0, 0, size = (self.hidden_layer2_size)), dtype = tf.float32, name = \"target_bias2\" ),\n",
    "            'w3' : tf.Variable(np.random.normal(0, 0.01, size = (self.hidden_layer2_size, self.hidden_layer3_size)), dtype = tf.float32, name = \"target_weight3\" ),\n",
    "            'b3' : tf.Variable(np.random.normal(0, 0, size = (self.hidden_layer3_size)), dtype = tf.float32, name = \"target_bias3\" )\n",
    "        }\n",
    "        # Defining the target network\n",
    "        t_h1 = tf.nn.relu(tf.add(tf.matmul(self.x, self.target_weights['w1']), self.target_weights['b1']))\n",
    "        t_h2 = tf.nn.relu(tf.add(tf.matmul(t_h1, self.target_weights['w2']), self.target_weights['b2']))\n",
    "        # Q value from target network\n",
    "        self.Q_target = tf.matmul(t_h2, self.target_weights['w3']) + self.target_weights['b3']\n",
    "        self.maxQ_target = tf.compat.v1.reduce_max(self.Q_target,axis=1)\n",
    "        ### Loss and optimizer\n",
    "\n",
    "        # We need to get the Q values for the actions performed so we multiply the \n",
    "        # one hot form of action to the Q values predicted from the primary network\n",
    "        self.action = tf.keras.backend.placeholder(dtype = tf.int32, shape= [None], name = 'actions') \n",
    "        self.one_hot_action = tf.one_hot(self.action, self.num_action_size,dtype = tf.float32, name = 'one_hot_action')\n",
    "        self.predicted = tf.compat.v1.reduce_sum(tf.multiply(self.Q_primary, self.one_hot_action, name = 'predicted'),axis=1)\n",
    "        # We here get the reward + the output of Q values from target network\n",
    "        self.expected = tf.keras.backend.placeholder(dtype = tf.float32, shape= [None], name = 'expected')\n",
    "        # The mse loss        \n",
    "        self.loss = tf.reduce_sum(tf.square(self.expected - self.predicted))\n",
    "#         self.loss = tf.losses.mean_squared_error(self.expected, self.predicted)                                                      \n",
    "        self.global_step = tf.Variable(0, name='global_step', trainable=False)\n",
    "        # optimizer updates the weights so as to decrease the loss, we chose adam optimizer\n",
    "        self.optimizer = tf.compat.v1.train.AdamOptimizer(learning_rate = self.learning_rate).minimize(self.loss,global_step=self.global_step)\n",
    "\n",
    "    def train(self):\n",
    "        self.session = tf.compat.v1.Session()\n",
    "        self.session.run(tf.compat.v1.global_variables_initializer())\n",
    "        self.replay = Replay_Buffer(self.ReplayMemSize)\n",
    "        summary_writer = tf.compat.v1.summary.FileWriter(self.log_dir)\n",
    "        summary = tf.compat.v1.Summary()\n",
    "        total_reward = np.zeros([self.NUM_EPISODES])\n",
    "        total_steps = 0\n",
    "        prev100 = []\n",
    "        self.plot_100 = []\n",
    "        self.plot = []\n",
    "        for i in range(self.NUM_EPISODES):\n",
    "            state = self.env.reset()\n",
    "            steps = 0\n",
    "            self.eps = max(0.05,self.eps*self.eps_decay)\n",
    "            while True:\n",
    "                action = self.get_action(state)\n",
    "                next_state,reward,done,_ = self.env.step(action)\n",
    "                steps+=1\n",
    "                total_steps+=1\n",
    "                total_reward[i]+=reward\n",
    "                ns = np.reshape(next_state,[1,4])\n",
    "                s = np.reshape(state,[1,4])\n",
    "                self.replay.push(np.reshape(np.array([s,action,reward,ns,done]),[1,5]))\n",
    "                if total_steps>self.batch_size:\n",
    "                      ###Edit when Experience Replay is Removed\n",
    "#                 if len(self.replay.buffer)==self.batch_size:\n",
    "#                     mini_batch = self.replay.sample2(self.batch_size)\n",
    "                    mini_batch = self.replay.sample(self.batch_size)\n",
    "                    ####FAST UPDATE\n",
    "                    max_Q = self.session.run(self.maxQ_target,feed_dict={self.x:np.vstack(mini_batch[:,3])})\n",
    "                    target = mini_batch[:,2]+self.gamma * max_Q * (1-mini_batch[:,4])\n",
    "                    _,cost= self.session.run([self.optimizer,self.loss],\n",
    "                                                feed_dict={\n",
    "                                                    self.x:np.vstack(mini_batch[:,0]),\n",
    "                                                    self.expected:np.reshape(target,(None)),\n",
    "                                                    self.action:np.reshape(mini_batch[:,1],(None))})\n",
    "                     ####Below Custom Update was slow\n",
    "#                     loss_val = self.update(mini_batch)\n",
    "                if total_steps%self.target_up ==0:\n",
    "                    for j in self.primary_weights:\n",
    "                        self.session.run(tf.compat.v1.assign(self.target_weights[j], self.primary_weights[j]))\n",
    "                   ###Epsilon Decay Per number of steps did not give good results\n",
    "#                 if total_steps%self.eps_up ==0:\n",
    "#                     self.eps *= self.eps_decay\n",
    "#                     if self.eps < 0.05:\n",
    "#                         self.eps = 0.05\n",
    "                state = next_state\n",
    "                if done or steps >200:\n",
    "                    break\n",
    "            if(len(prev100)<100):\n",
    "                prev100.append(steps)\n",
    "            else:\n",
    "                prev100[i%100]=steps\n",
    "            hey = np.mean(prev100)\n",
    "            self.plot_100.append(hey)\n",
    "            self.plot.append(steps)\n",
    "            print(i,hey)\n",
    "            summary.value.add(tag = \"Average total reward (number of steps per episode)\", simple_value = hey)\n",
    "            summary_writer.add_summary(summary, i)\n",
    "            if(i%100==0):\n",
    "                print(hey) \n",
    "            if(hey>=195):\n",
    "                break\n",
    "    def get_action(self,state):\n",
    "        if np.random.random()<self.eps:\n",
    "            return np.random.choice([0,1],p=[0.5,0.5])\n",
    "        else:\n",
    "            state = np.expand_dims(state, axis = 0)\n",
    "            Q_values = self.session.run(self.Q_primary, feed_dict={self.x : state})\n",
    "            return np.argmax(Q_values)\n",
    "    def update(self,experience):\n",
    "        l = len(experience)\n",
    "        states = [experience[i].state for i in range(l)]\n",
    "        actions = [experience[i].action for i in range(l)]\n",
    "        rewards = [experience[i].reward for i in range(l)]\n",
    "        next_states = [experience[i].next_state for i in range(l)]\n",
    "        terminals =[experience[i].done for i in range(l)]\n",
    "        \n",
    "        for i in range(len(states)):\n",
    "            expected_val = rewards[i]\n",
    "            expected_val = np.expand_dims(expected_val, axis = 0)\n",
    "            \n",
    "            if not terminals[i]:\n",
    "                next_states[i] = np.expand_dims(next_states[i], axis = 0)\n",
    "                expected_val = self.gamma*np.amax(self.session.run(self.Q_target, feed_dict={self.x : next_states[i]}), axis=1) + rewards[i] \n",
    "\n",
    "            states[i] = np.expand_dims(states[i], axis = 0)\n",
    "            actions[i] = np.expand_dims(actions[i], axis = 0)\n",
    "\n",
    "            _, loss_val = self.session.run([self.optimizer, self.loss], feed_dict={self.x : states[i], self.expected : expected_val, self.action : actions[i]})\n",
    "\n",
    "        return loss_val\n",
    "        \n",
    "        "
   ]
  },
  {
   "cell_type": "code",
   "execution_count": null,
   "metadata": {
    "colab": {},
    "colab_type": "code",
    "id": "E2ic9xvp8_CC"
   },
   "outputs": [],
   "source": []
  },
  {
   "cell_type": "code",
   "execution_count": 33,
   "metadata": {},
   "outputs": [
    {
     "name": "stdout",
     "output_type": "stream",
     "text": [
      "20200731-110625\n"
     ]
    }
   ],
   "source": [
    "hidden = 120\n",
    "# target_freq1 = 200 \n",
    "target_freq2 = 300\n",
    "# batch_size1 = 100\n",
    "batch_size2 = 120\n",
    "# dqn1 = DQN(0.5,0.99,20,[hidden,hidden],2000,0.9,target_freq1,batch_size1,10000,0.0025)\n",
    "dqn2 = DQN(0.5,0.99,20,[hidden,hidden],2000,1,target_freq2,batch_size2,10000,0.0001)"
   ]
  },
  {
   "cell_type": "code",
   "execution_count": 34,
   "metadata": {
    "colab": {},
    "colab_type": "code",
    "id": "_mt-5N9z8_CL"
   },
   "outputs": [],
   "source": [
    "# dqn1.Q_network()\n",
    "dqn2.Q_network()"
   ]
  },
  {
   "cell_type": "markdown",
   "metadata": {
    "colab": {
     "base_uri": "https://localhost:8080/",
     "height": 400
    },
    "colab_type": "code",
    "id": "4fPQ2GP_8_CU",
    "outputId": "42980bb5-8a14-49ab-ec04-f174ccdaea08"
   },
   "source": [
    "# Starting Training "
   ]
  },
  {
   "cell_type": "markdown",
   "metadata": {
    "colab_type": "text",
    "id": "RmpXrYUWxy_U"
   },
   "source": [
    "dqn2"
   ]
  },
  {
   "cell_type": "code",
   "execution_count": 36,
   "metadata": {
    "colab": {
     "base_uri": "https://localhost:8080/",
     "height": 400
    },
    "colab_type": "code",
    "id": "seiAjgaOQrjV",
    "outputId": "1e3e2926-c567-4480-d3fb-4b786db64557"
   },
   "outputs": [],
   "source": [
    "dqn2.train()"
   ]
  },
  {
   "cell_type": "code",
   "execution_count": 17,
   "metadata": {
    "colab": {
     "base_uri": "https://localhost:8080/",
     "height": 282
    },
    "colab_type": "code",
    "id": "Efem4Qc78_Cn",
    "outputId": "b3321df8-5166-49f7-b077-9b6703457881"
   },
   "outputs": [
    {
     "data": {
      "image/png": "[encoded data removed]",
      "text/plain": [
       "<Figure size 432x288 with 1 Axes>"
      ]
     },
     "metadata": {
      "needs_background": "light"
     },
     "output_type": "display_data"
    }
   ],
   "source": [
    "\n",
    "#  with summary_writer.as_default():\n",
    "#         tf.summary.scalar('episode reward', total_reward, step=n)\n",
    "#         tf.summary.scalar('running avg reward(100)', avg_rewards, step=n)\n",
    "#         tf.summary.scalar('average loss)', losses, step=n)\n",
    "T = []\n",
    "# num_episode=500\n",
    "for i in range(len(dqn2.plot)):\n",
    "    T.append(i+1)\n",
    "plt.plot(T,dqn2.plot_100,linewidth=2,label= \"Moving average of 100\")\n",
    "plt.plot(T,dqn2.plot,linewidth = 0.3,label= \"Individual reward\")\n",
    "plt.legend(loc = \"upper left\")\n",
    "plt.show()\n"
   ]
  },
  {
   "cell_type": "code",
   "execution_count": 18,
   "metadata": {},
   "outputs": [
    {
     "name": "stdout",
     "output_type": "stream",
     "text": [
      "[\n",
      "11.0,16.5,14.666666666666666,15.75,14.4,14.833333333333334,17.0,16.875,17.333333333333332,16.7,16.454545454545453,16.083333333333332,15.692307692307692,15.285714285714286,15.2,14.875,14.764705882352942,14.722222222222221,14.578947368421053,14.55,14.857142857142858,14.636363636363637,14.695652173913043,14.5,14.6,14.5,14.555555555555555,14.535714285714286,14.379310344827585,14.3,14.258064516129032,14.0625,14.030303030303031,14.0,13.885714285714286,13.805555555555555,13.783783783783784,13.868421052631579,13.76923076923077,13.7,13.609756097560975,13.523809523809524,13.511627906976743,13.477272727272727,13.4,13.304347826086957,13.212765957446809,13.125,13.122448979591837,13.1,13.058823529411764,13.057692307692308,12.981132075471699,12.944444444444445,12.963636363636363,12.892857142857142,12.842105263157896,12.793103448275861,12.796610169491526,12.766666666666667,12.721311475409836,12.693548387096774,12.634920634920634,12.59375,12.615384615384615,12.651515151515152,12.626865671641792,12.573529411764707,12.55072463768116,12.514285714285714,12.492957746478874,12.430555555555555,12.41095890410959,12.364864864864865,12.306666666666667,12.289473684210526,12.246753246753247,12.243589743589743,12.189873417721518,12.1625,12.11111111111111,12.085365853658537,12.060240963855422,12.011904761904763,11.988235294117647,11.953488372093023,11.931034482758621,11.909090909090908,11.92134831460674,11.9,11.912087912087912,11.91304347826087,11.881720430107526,11.882978723404255,11.852631578947369,11.822916666666666,11.814432989690722,11.785714285714286,11.787878787878787,11.79,11.77,11.66,11.67,11.56,11.55,11.48,11.44,11.37,11.26,11.25,11.23,11.22,11.22,11.23,11.18,11.19,11.16,11.13,11.11,11.07,10.96,10.97,10.89,10.89,10.8,10.78,10.72,10.68,10.67,10.65,10.62,10.64,10.6,10.58,10.62,10.62,10.59,10.53,10.53,10.51,10.5,10.49,10.49,10.52,10.7,10.76,10.79,10.94,10.94,11.01,11.0,11.0,11.04,11.05,11.16,11.16,11.29,11.33,11.3,11.41,11.63,11.74,11.74,11.97,11.97,11.96,12.03,12.09,12.17,12.42,12.51,12.52,12.53,12.53,12.58,12.59,12.59,12.58,12.6,12.76,12.94,12.97,13.03,13.17,13.18,13.19,13.18,13.18,13.14,13.15,13.25,13.5,13.74,13.76,13.82,13.91,13.96,13.98,14.14,14.24,14.37,14.55,14.67,14.76,14.84,16.27,16.69,17.18,17.31,18.28,18.7,19.15,19.71,20.3,20.87,21.74,22.29,22.86,23.09,23.38,23.96,24.51,25.23,25.63,25.88,26.14,26.69,27.25,27.47,27.7,27.94,28.59,29.15,30.17,30.7,31.14,31.58,32.11,32.58,32.97,33.55,34.33,34.81,35.49,35.72,36.24,36.79,37.34,38.27,39.1,40.01,41.2,41.91,42.81,43.39,44.25,45.15,46.56,47.88,49.66,51.19,52.61,53.88,55.35,56.9,58.64,60.23,61.57,62.82,64.26,65.64,66.99,68.87,70.62,72.47,74.03,75.78,77.39,78.94,80.68,82.42,84.29,86.13,87.91,89.8,91.7,93.61,95.51,97.42,99.14,100.91,102.54,104.21,106.07,107.92,109.74,111.58,113.47,115.19,116.97,118.75,120.46,122.22,124.05,125.89,126.36,127.68,129.1,130.87,131.8,133.26,134.7,136.03,137.33,138.67,139.69,141.04,142.36,144.03,145.64,146.96,148.3,149.5,151.0,152.67,154.31,155.66,157.0,158.69,160.36,162.02,163.27,164.62,165.49,166.82,168.27,169.73,171.09,172.52,174.04,175.37,176.5,177.89,179.06,180.55,181.88,183.21,184.42,185.36,186.34,187.33,188.01,189.17,190.15,191.32,192.37,193.24,193.69,194.27,194.27,194.42,194.78,195.42,]\n"
     ]
    }
   ],
   "source": [
    "print(\"[\")\n",
    "for i in range(len(dqn2.plot)):\n",
    "    print(dqn2.plot_100[i],end = \",\")\n",
    "print(\"]\")"
   ]
  },
  {
   "cell_type": "markdown",
   "metadata": {
    "colab_type": "text",
    "id": "JfmOw0H-tCi2"
   },
   "source": []
  },
  {
   "cell_type": "code",
   "execution_count": null,
   "metadata": {
    "colab": {},
    "colab_type": "code",
    "id": "-OTWGAPT8_C5"
   },
   "outputs": [],
   "source": [
    "##### TWo networks should be available\n",
    "##### One for Training and one for Targets"
   ]
  },
  {
   "cell_type": "code",
   "execution_count": null,
   "metadata": {
    "colab": {},
    "colab_type": "code",
    "id": "fmKQRaF48_DJ"
   },
   "outputs": [],
   "source": []
  },
  {
   "cell_type": "code",
   "execution_count": null,
   "metadata": {
    "colab": {},
    "colab_type": "code",
    "id": "3u9tRR1L8_DP"
   },
   "outputs": [],
   "source": []
  },
  {
   "cell_type": "code",
   "execution_count": null,
   "metadata": {
    "colab": {},
    "colab_type": "code",
    "id": "ApiS7gAM8_DV"
   },
   "outputs": [],
   "source": [
    "# BATCH_SIZE = 128\n",
    "# GAMMA = 0.9\n",
    "# EPS_START = 0.9\n",
    "# EPS_END = 0.05\n",
    "# EPS_DECAY = 200\n",
    "# TARGET_UPDATE = 10"
   ]
  },
  {
   "cell_type": "code",
   "execution_count": null,
   "metadata": {
    "colab": {},
    "colab_type": "code",
    "id": "7P0bpRum8_Dc",
    "outputId": "14bbb895-107e-4944-9138-49fc8899092f"
   },
   "outputs": [],
   "source": []
  },
  {
   "cell_type": "code",
   "execution_count": null,
   "metadata": {
    "colab": {},
    "colab_type": "code",
    "id": "h_9YTRMx8_Du"
   },
   "outputs": [],
   "source": [
    "# for i in range(1000):\n",
    "#     episode(e,PolicyNet,TargetNet,epsilon,copy,MEM,min_exp,batch_size)\n",
    "steps=0"
   ]
  },
  {
   "cell_type": "code",
   "execution_count": null,
   "metadata": {
    "colab": {},
    "colab_type": "code",
    "id": "EQDLHi6j8_D9"
   },
   "outputs": [],
   "source": [
    "print(\"check\",episode(e,PolicyNet,TargetNet,0,copy,MEM,min_exp,batch_size))"
   ]
  },
  {
   "cell_type": "code",
   "execution_count": null,
   "metadata": {
    "colab": {},
    "colab_type": "code",
    "id": "F1z_POru8_EB"
   },
   "outputs": [],
   "source": []
  },
  {
   "cell_type": "code",
   "execution_count": null,
   "metadata": {
    "colab": {},
    "colab_type": "code",
    "id": "Ktm-IhcE8_EQ"
   },
   "outputs": [],
   "source": []
  }
 ],
 "metadata": {
  "colab": {
   "name": "skeleton_implem-Copy1.ipynb",
   "provenance": []
  },
  "kernelspec": {
   "display_name": "Python 3",
   "language": "python",
   "name": "python3"
  },
  "language_info": {
   "codemirror_mode": {
    "name": "ipython",
    "version": 3
   },
   "file_extension": ".py",
   "mimetype": "text/x-python",
   "name": "python",
   "nbconvert_exporter": "python",
   "pygments_lexer": "ipython3",
   "version": "3.8.2"
  }
 },
 "nbformat": 4,
 "nbformat_minor": 1
}
